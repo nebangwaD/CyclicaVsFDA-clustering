{
 "cells": [
  {
   "cell_type": "code",
   "execution_count": null,
   "id": "f8044df6",
   "metadata": {},
   "outputs": [],
   "source": [
    "import pandas as pd\n",
    "import seaborn as sns\n",
    "from matplotlib import pyplot as plt\n",
    "import numpy as np\n",
    "\n",
    "CycVsFDA = pd.read_csv(\"CycVsFDA.tsv\", sep=\"\\t\")"
   ]
  },
  {
   "cell_type": "code",
   "execution_count": null,
   "id": "fedea730",
   "metadata": {},
   "outputs": [],
   "source": [
    "#!/usr/bin/python\n",
    "#\n",
    "# structurAlalignment.py\n",
    "#\n",
    " \n",
    "import __main__\n",
    "__main__.pymol_argv = [ 'pymol', '-qc'] # Quiet and no GUI\n",
    " \n",
    "import sys, time, os\n",
    "import pymol\n",
    "import glob\n",
    "\n",
    "pymol.finish_launching()\n",
    "\n",
    "directory = \"/Users/neba/Desktop/CyclicaVsFDA/RMSD_script/*^.[\\/].pdb\"\n",
    "\n",
    "# Read User Input\n",
    "structurePath = glob.glob(directory)\n",
    "\n",
    " \n",
    "# Load Structures\n",
    "for ref_pdb in structurePath:\n",
    "        for mobile_pdb in structurePath:\n",
    "            refStructureName = ref_pdb.split('/')[-1].split('.')[0]\n",
    "            mobileStructureName = mobile_pdb.split('/')[-1].split('.')[0]\n",
    "            \n",
    "            pymol.cmd.load(ref_pdb, refStructureName)\n",
    "            pymol.cmd.load(mobile_pdb, mobileStructureName)\n",
    "            pymol.cmd.align('%s & %s' % (refStructureName),'%s & %s' % (mobileStructureName), cutoff=0.2,cycles=1) # Import Module\n",
    "            time.sleep(1) # Don't know why, but if I don't wait, structures do not align properly..\n",
    "\n",
    "# Save Superimposition\n",
    "# save(file, selection, state (0 default), format)\n",
    "pymol.cmd.save(\"%s_%s.pdb\" %(mobileStructureName, refStructureName), mobileStructureName, 0, 'pdb')\n",
    " \n",
    "## SUPER - old\n",
    "#pymol.cmd.super((staticStructureName and (resn ZN around 5 and (resn CYS or resn HIS))), (mobileStructureName and (resn ZN around 5 and (resn CYS or resn HIS))))\n",
    "#pymol.cmd.save(\"%s_%s_SUPER.pdb\" %(mobileStructureName, staticStructureName), mobileStructureName, 0, 'pdb')\n",
    " \n",
    "# Get out!\n",
    "pymol.cmd.quit()\n",
    "\n"
   ]
  },
  {
   "cell_type": "code",
   "execution_count": null,
   "id": "ddc5adfd",
   "metadata": {},
   "outputs": [],
   "source": [
    "#! /usr/bin/env python3\n",
    "import os\n",
    "import glob,re\n",
    "from pymol import cmd\n",
    "\n",
    "#local path to pdb files\n",
    "directory = \"/Users/neba/Desktop/CyclicaVsFDA/RMSD_script/*.pdb\"\n",
    "\n",
    "#Function to use pymol align API\n",
    "def align_allFiles_to_allFiles(files=directory,cutoff=2,cycles=3,debug=1,full_matrix=0,method='align'):\n",
    "  \"\"\"\n",
    "  Aligns all models in a list to all other models in the list\n",
    "\n",
    "  usage:\n",
    "    align_allfiles_to_allfiles [file_list][selection][cutoff=2][cycles=5][debug=0][full_matrix=0][method='align']\n",
    "\n",
    "        where method can be align, super, cealign or rmscur\n",
    "\n",
    "        where, cutoff and cycles are options passed to the align command.\n",
    "\n",
    "    Setting debug=1 prints more information to the terminal or external GUI.\n",
    "    Setting full_matrix=1 prints out the full symmetric matrix, rather than\n",
    "    simply the top-half matrix\n",
    "\n",
    "    Example:\n",
    "      align_allFiles_to_allFiles files=name1 name2 name3 name4, full_matrix=1\n",
    "  \"\"\"\n",
    "  file_list = glob.glob(files)\n",
    "  file_list.sort()\n",
    "  extension = re.compile( '(^.*[\\/]|\\.(pdb|ent|brk))' )\n",
    "\n",
    "  cutoff = int(cutoff)\n",
    "  cycles = int(cycles)\n",
    "  full_matrix = int(full_matrix)\n",
    "  debug=int(debug)\n",
    "\n",
    "  object_list = []\n",
    "  for filename in file_list:\n",
    "    object_list.append(extension.sub('',filename))\n",
    "\n",
    "  rmsd = {}\n",
    "  rmsd_list = []\n",
    "  for i in range(len(file_list)):\n",
    "    obj_name1 = extension.sub('',file_list[i])\n",
    "    cmd.load(file_list[i],obj_name1)\n",
    "    for j in range(i+1,len(file_list)):\n",
    "      obj_name2 = extension.sub('',file_list[j])\n",
    "      cmd.load(file_list[j],obj_name2)\n",
    "\n",
    "      rmsd_val = cmd.align('%s & %s' % (object_list[j],selection),\n",
    "                    '%s & %s' % (object_list[i],selection),\n",
    "                    cutoff=cutoff,cycles=cycles)\n",
    "\n",
    "      rmsd.setdefault(obj_name1,{})[obj_name2] = rmsd_val[0]\n",
    "      rmsd_list.append((rmsd_val[0],obj_name1,obj_name2))\n",
    "      if debug:\n",
    "        print(\"Alignment of %s to %s:\" % (obj_name2,obj_name1))\n",
    "        print(\"     Initial rmsd_val: %6.3f for %d atoms\" % (rmsd_val[3],rmsd_val[4]))\n",
    "        print(\"     Final rmsd_val: %6.3f for %d atoms after %d cycles\\n\" % (rmsd_val[0],rmsd_val[1],rmsd_val[2]))\n",
    "        \n",
    "      cmd.save(\"%s_%s.pdb\" %(obj_name2, obj_name1),\n",
    "               obj_name2,0, 'pdb')\n",
    "\n",
    "      \n",
    "  rmsd_list.sort()\n",
    "# loop over dictionary and print out matrix of final rmsd_val values\n",
    "  if debug:\n",
    "    for object_name in object_list[:-1]:\n",
    "      print(\"%s: %s\" % (object_name,str(rmsd[object_name])))\n",
    "\n",
    "    for r in rmsd_list:\n",
    "      print(\"%6.3f  %s  %s\" % r)\n",
    "\n",
    "  print(\"%6s\" % \" \", end=' ')\n",
    "  if full_matrix:\n",
    "# fill in other half of matrix\n",
    "    for i in range(len(object_list)):\n",
    "      for j in range(i+1,len(object_list)):\n",
    "        rmsd.setdefault(object_list[j],{})[object_list[i]] = rmsd[object_list[i]][object_list[j]]\n",
    "      rmsd[object_list[i]][object_list[i]] = 0\n",
    "\n",
    "    for i in range(len(rmsd)):\n",
    "      print(\"%6s\" % object_list[i], end=' ')\n",
    "    print(\"\")\n",
    "    for i in range(len(object_list)):\n",
    "      print(\"%6s\" % object_list[i], end=' ')\n",
    "      for j in range(len(object_list)):\n",
    "        print(\"%6.3f\" % (rmsd[object_list[i]][object_list[j]]), end=' ')\n",
    "      print(\"\")\n",
    "  else:\n",
    "    for i in range(len(rmsd)):\n",
    "      print(\"%6s\" % object_list[i+1], end=' ')\n",
    "    print(\"\")\n",
    "    for i in range(len(object_list)):\n",
    "      print(\"%6s\" % object_list[i], end=' ')\n",
    "      for k in range(i):\n",
    "        print(\"%6s\" % \" \", end=' ')\n",
    "      for j in range(i+1,len(object_list)):\n",
    "        print(\"%6.3f\" % (rmsd[object_list[i]][object_list[j]]), end=' ')\n",
    "      print(\"\")\n",
    "\n",
    "cmd.extend('align_allFiles_to_allFiles',align_allFiles_to_allFiles)"
   ]
  },
  {
   "cell_type": "code",
   "execution_count": null,
   "id": "5e70e339",
   "metadata": {},
   "outputs": [],
   "source": [
    "import os\n",
    "os.getcwd()"
   ]
  },
  {
   "cell_type": "code",
   "execution_count": null,
   "id": "d46f0e61",
   "metadata": {},
   "outputs": [],
   "source": [
    "!cd /Users/neba/Desktop/CyclicaVsFDA/RMSD_script/"
   ]
  },
  {
   "cell_type": "code",
   "execution_count": null,
   "id": "7bada5eb",
   "metadata": {},
   "outputs": [],
   "source": [
    "!chmod +x rmsd.py"
   ]
  },
  {
   "cell_type": "code",
   "execution_count": null,
   "id": "9795b8c4",
   "metadata": {},
   "outputs": [],
   "source": [
    "!ls -l"
   ]
  },
  {
   "cell_type": "code",
   "execution_count": null,
   "id": "08896ef9",
   "metadata": {},
   "outputs": [],
   "source": [
    "!python rmsd.py"
   ]
  },
  {
   "cell_type": "code",
   "execution_count": 3,
   "id": "c023cd38",
   "metadata": {},
   "outputs": [
    {
     "data": {
      "text/plain": [
       "'/Users/RMSD_script'"
      ]
     },
     "execution_count": 3,
     "metadata": {},
     "output_type": "execute_result"
    }
   ],
   "source": [
    "import os\n",
    "os.getcwd()"
   ]
  },
  {
   "cell_type": "code",
   "execution_count": 2,
   "id": "4f245184",
   "metadata": {},
   "outputs": [],
   "source": [
    "os.chdir(\"/Users/RMSD_script\")"
   ]
  },
  {
   "cell_type": "code",
   "execution_count": 6,
   "id": "87bc3bf5",
   "metadata": {},
   "outputs": [
    {
     "name": "stdout",
     "output_type": "stream",
     "text": [
      "total 6504\r\n",
      "-rw-r--r--@ 1 root  admin   199948 31 May 21:03 108.pdb\r\n",
      "-rw-r--r--@ 1 root  admin   200896 31 May 21:03 205.pdb\r\n",
      "-rw-r--r--@ 1 root  admin   198526 31 May 21:03 427.pdb\r\n",
      "-rw-r--r--@ 1 root  admin   199158 31 May 21:03 470.pdb\r\n",
      "-rw-r--r--@ 1 root  admin  2404241 31 May 21:03 470_470.pdb\r\n",
      "-rw-r--r--@ 1 root  admin    94362 31 May 21:03 79.pdb\r\n",
      "-rwxr-xr-x  1 root  admin     3443 31 May 21:03 \u001b[31mrmsd.py\u001b[m\u001b[m\r\n",
      "-rw-r--r--  1 root  admin    15773 31 May 21:03 rmsd_script.ipynb\r\n"
     ]
    }
   ],
   "source": [
    "!ls -l\n",
    "\n"
   ]
  },
  {
   "cell_type": "code",
   "execution_count": 7,
   "id": "b3f79709",
   "metadata": {},
   "outputs": [
    {
     "name": "stdout",
     "output_type": "stream",
     "text": [
      "No application knows how to open /Users/RMSD_script/rmsd_script.ipynb.\r\n"
     ]
    }
   ],
   "source": [
    "!open rmsd_script.ipynb"
   ]
  },
  {
   "cell_type": "code",
   "execution_count": null,
   "id": "5c82f6f8",
   "metadata": {},
   "outputs": [],
   "source": []
  }
 ],
 "metadata": {
  "kernelspec": {
   "display_name": "Python 3 (ipykernel)",
   "language": "python",
   "name": "python3"
  },
  "language_info": {
   "codemirror_mode": {
    "name": "ipython",
    "version": 3
   },
   "file_extension": ".py",
   "mimetype": "text/x-python",
   "name": "python",
   "nbconvert_exporter": "python",
   "pygments_lexer": "ipython3",
   "version": "3.8.5"
  }
 },
 "nbformat": 4,
 "nbformat_minor": 5
}
