{
 "cells": [
  {
   "cell_type": "code",
   "execution_count": null,
   "id": "4eb8bd31",
   "metadata": {},
   "outputs": [],
   "source": [
    "!jupyter notebook --NotbookApp.iopub_Data_Rate_Limit=1e20"
   ]
  },
  {
   "cell_type": "code",
   "execution_count": null,
   "id": "d612b288",
   "metadata": {},
   "outputs": [],
   "source": [
    "import os\n",
    "os.chdir (\"/Users/neba/Desktop/RUN_3/test_run/\")\n",
    "os.getcwd()\n",
    "    \n",
    "!pwd"
   ]
  },
  {
   "cell_type": "code",
   "execution_count": null,
   "id": "d18b4fd8",
   "metadata": {},
   "outputs": [],
   "source": [
    "!ls -lG\n"
   ]
  },
  {
   "cell_type": "code",
   "execution_count": null,
   "id": "0c208dee",
   "metadata": {},
   "outputs": [],
   "source": [
    "#!/usr/bin/python\n",
    "#\n",
    "# PairWise_RMSD_smalLigs.py\n",
    "#For large throughput alignments, do not put script in thesame directory as pdb files\n",
    "#Let directory of input files contain only the pdb files\n",
    "#Use only \"underscore\" to name directories with >1 word. Do not use \"stroks\"\n",
    " \n",
    "import __main__\n",
    "__main__.pymol_argv = [ 'pymol', '-qc'] # Quiet and no GUI\n",
    " \n",
    "import sys, time, os, re\n",
    "from pymol import cmd\n",
    "import pymol\n",
    "import glob\n",
    "import pandas as pd\n",
    "\n",
    "import time\n",
    "start_time = time.time()\n",
    "\n",
    "pymol.finish_launching()\n",
    "\n",
    "directory = \"/Users/neba/Desktop/RUN_3/test_run/*.pdb\"\n",
    "#directory2 = \"/Users/neba/Desktop/CyclicaVsFDA/Results/test1/*.pdb\"\n",
    "\n",
    "\n",
    "# Read User Input\n",
    "structurePath = glob.glob(directory)\n",
    "#structurePath2 = glob.glob(directory2)\n",
    "\n",
    "structurePath.sort()\n",
    "#structurePath2.sort()\n",
    "extension = re.compile( '(^.*[\\/]|\\.(pdb|ent|brk))' )\n",
    "\n",
    "object_list = []\n",
    "for filename in structurePath:\n",
    "    object_list.append(extension.sub ('',filename))\n",
    "\n",
    "#for filename in structurePath2:\n",
    "#object_list.append(extension.sub ('',filename))\n",
    "\n",
    "rmsd = {}    \n",
    "rmsd_list = []\n",
    "for i in range (len(structurePath)):\n",
    "    for j in range(1+i, len(structurePath)):\n",
    "        obj_name1 = extension.sub('',structurePath[i].split(\"/\")[-1].split(\".\")[0])\n",
    "        cmd.load(structurePath[i],obj_name1)\n",
    "        obj_name2 = extension.sub('',structurePath[j].split(\"/\")[-1].split(\".\")[0])\n",
    "        cmd.load(structurePath[j],obj_name2)\n",
    "        \n",
    "        rmsd_val = cmd.align(obj_name1, obj_name2, cycles=0, cutoff=5,\n",
    "                            quiet=0, transform=0)#good ligand alignment when transform=0\n",
    "                                                 #transform=0/1: do superposition {default: 1}\n",
    "                             \n",
    "        \n",
    "        rmsd.setdefault(obj_name1,{})[obj_name2] = rmsd_val[0],rmsd_val[1],rmsd_val[2],\n",
    "        rmsd_val[3], rmsd_val[4],rmsd_val[5], rmsd_val[6]\n",
    "        \n",
    "        rmsd_list.append((round(rmsd_val[3],2), round(rmsd_val[0],2), round(rmsd_val[4],2),\n",
    "                          round(rmsd_val[5],2), obj_name1, obj_name2)) #indexing to creat\n",
    "                                                                       #columns in df\n",
    "             #columns in df\n",
    "        \n",
    "        #Delete object and replace with new items when \n",
    "        #loop loops through directory, the delete ccommnds must\n",
    "        #align with loops for good results\n",
    "       \n",
    "        cmd.delete(obj_name2)\n",
    "    cmd.delete(obj_name1)\n",
    "\n",
    "#Re-order table\n",
    "rmsd_list.sort()\n",
    "\n",
    "#testing\n",
    "print (rmsd_list)\n",
    "\n",
    "#Create tables with poutput pairwise rmsds\n",
    "rmsd_df = pd.DataFrame(rmsd_list)\n",
    "\n",
    "#Renaming columns to match pymol's \"align\" column names\n",
    "rmsd_df.columns = ['RMSD_BR','RMSD_AR', '#atomsAligned',\n",
    "                   'Alignment_score','Ref_Ligand', \n",
    "                   'Aligned_Ligand']\n",
    "\n",
    "#save file to directory\n",
    "rmsd_df.to_csv(\"rmsd1115_working.csv\", index=False)\n",
    "\n",
    "rmsd_df.head(50)\n",
    "\n",
    "#The \"align\" tool of pymol returns a list with 7 items:\n",
    "#RMSD after refinement\n",
    "#Number of aligned atoms after refinement\n",
    "#Number of refinement cycles\n",
    "#RMSD before refinement\n",
    "#Number of aligned atoms before refinement\n",
    "#Raw alignment score\n",
    "#Number of residues aligned\n",
    "\n",
    "#jupyter notebook --NotbookApp.iopub_Data_Rate_Limit=1e12\n",
    "\n",
    "\n",
    "\n"
   ]
  },
  {
   "cell_type": "code",
   "execution_count": null,
   "id": "fcae5b8b",
   "metadata": {},
   "outputs": [],
   "source": [
    "rmsd_df[(rmsd_df[\"RMSD_BR\"] < 2) & (rmsd_df[\"Alignment_score\"] > 3)\n",
    "        & (rmsd_df['#atomsAligned'] > 5)].head(50)"
   ]
  },
  {
   "cell_type": "code",
   "execution_count": null,
   "id": "d6f4ea9f",
   "metadata": {},
   "outputs": [],
   "source": [
    "#import time for timing runs\n",
    "import time\n",
    "start_time = time.time()\n"
   ]
  },
  {
   "cell_type": "code",
   "execution_count": null,
   "id": "e9db75a7",
   "metadata": {},
   "outputs": [],
   "source": [
    "import numpy as np\n",
    "import pandas as pd\n",
    "import scanpy as sc\n",
    "import anndata\n",
    "from sklearn.decomposition import TruncatedSVD\n",
    "import matplotlib\n",
    "import matplotlib.pyplot as plt"
   ]
  },
  {
   "cell_type": "code",
   "execution_count": null,
   "id": "7bcd6571",
   "metadata": {},
   "outputs": [],
   "source": []
  }
 ],
 "metadata": {
  "kernelspec": {
   "display_name": "Python 3 (ipykernel)",
   "language": "python",
   "name": "python3"
  },
  "language_info": {
   "codemirror_mode": {
    "name": "ipython",
    "version": 3
   },
   "file_extension": ".py",
   "mimetype": "text/x-python",
   "name": "python",
   "nbconvert_exporter": "python",
   "pygments_lexer": "ipython3",
   "version": "3.8.5"
  }
 },
 "nbformat": 4,
 "nbformat_minor": 5
}
