{
 "cells": [
  {
   "cell_type": "code",
   "execution_count": 1,
   "id": "4eb8bd31",
   "metadata": {},
   "outputs": [
    {
     "name": "stdout",
     "output_type": "stream",
     "text": [
      "/Users/neba/Desktop/RUN_3\r\n"
     ]
    }
   ],
   "source": [
    "import os\n",
    "os.chdir (\"/Users/neba/Desktop/RUN_3/\")\n",
    "os.getcwd()\n",
    "    \n",
    "!pwd"
   ]
  },
  {
   "cell_type": "code",
   "execution_count": 13,
   "id": "d18b4fd8",
   "metadata": {},
   "outputs": [
    {
     "name": "stdout",
     "output_type": "stream",
     "text": [
      "total 80\r\n",
      "drwxr-xr-x  225 neba  staff   7200 12 Jun 23:37 \u001b[34mcyclica_p1\u001b[m\u001b[m\r\n",
      "drwxr-xr-x  225 neba  staff   7200 12 Jun 23:37 \u001b[34mcyclica_p2\u001b[m\u001b[m\r\n",
      "drwxr-xr-x  225 neba  staff   7200 12 Jun 23:37 \u001b[34mcyclica_p3\u001b[m\u001b[m\r\n",
      "drwxr-xr-x  435 neba  staff  13920 13 Jun 00:02 \u001b[34mfda1-200\u001b[m\u001b[m\r\n",
      "drwxr-xr-x  851 neba  staff  27232 12 Jun 23:43 \u001b[34mfda1000-1615\u001b[m\u001b[m\r\n",
      "drwxr-xr-x  302 neba  staff   9664 12 Jun 23:51 \u001b[34mfda201-500\u001b[m\u001b[m\r\n",
      "drwxr-xr-x  736 neba  staff  23552 12 Jun 23:43 \u001b[34mfda500-1000\u001b[m\u001b[m\r\n",
      "-rw-r--r--    1 neba  staff  39879 13 Jun 00:11 pairwise_rmsd_12062022.ipynb\r\n"
     ]
    }
   ],
   "source": [
    "!ls -lG\n"
   ]
  },
  {
   "cell_type": "code",
   "execution_count": 14,
   "id": "0c208dee",
   "metadata": {},
   "outputs": [
    {
     "ename": "NameError",
     "evalue": "name 'obj_name1' is not defined",
     "output_type": "error",
     "traceback": [
      "\u001b[0;31m---------------------------------------------------------------------------\u001b[0m",
      "\u001b[0;31mNameError\u001b[0m                                 Traceback (most recent call last)",
      "Input \u001b[0;32mIn [14]\u001b[0m, in \u001b[0;36m<cell line: 37>\u001b[0;34m()\u001b[0m\n\u001b[1;32m     54\u001b[0m                                                                           \u001b[38;5;66;03m#columns in df\u001b[39;00m\n\u001b[1;32m     55\u001b[0m              \u001b[38;5;66;03m#columns in df\u001b[39;00m\n\u001b[1;32m     56\u001b[0m         \n\u001b[1;32m     57\u001b[0m         \u001b[38;5;66;03m#Delete object and replace with new items when \u001b[39;00m\n\u001b[1;32m     58\u001b[0m         \u001b[38;5;66;03m#loop loops through directory, the delete ccommnds must\u001b[39;00m\n\u001b[1;32m     59\u001b[0m         \u001b[38;5;66;03m#align with loops for good results\u001b[39;00m\n\u001b[1;32m     61\u001b[0m         cmd\u001b[38;5;241m.\u001b[39mdelete(obj_name2)\n\u001b[0;32m---> 62\u001b[0m     cmd\u001b[38;5;241m.\u001b[39mdelete(\u001b[43mobj_name1\u001b[49m)\n\u001b[1;32m     64\u001b[0m \u001b[38;5;66;03m#Re-order table\u001b[39;00m\n\u001b[1;32m     65\u001b[0m rmsd_list\u001b[38;5;241m.\u001b[39msort()\n",
      "\u001b[0;31mNameError\u001b[0m: name 'obj_name1' is not defined"
     ]
    }
   ],
   "source": [
    "#!/usr/bin/python\n",
    "#\n",
    "# PairWise_RMSD_smalLigs.py\n",
    " \n",
    "import __main__\n",
    "__main__.pymol_argv = [ 'pymol', '-qc'] # Quiet and no GUI\n",
    " \n",
    "import sys, time, os, re\n",
    "from pymol import cmd\n",
    "import pymol\n",
    "import glob\n",
    "import pandas as pd\n",
    "\n",
    "pymol.finish_launching()\n",
    "\n",
    "directory = \"/Users/neba/Desktop/CyclicaVsFDA/\"\n",
    "#directory2 = \"/Users/neba/Desktop/CyclicaVsFDA/Results/test1/*.pdb\"\n",
    "\n",
    "\n",
    "# Read User Input\n",
    "structurePath = glob.glob(directory)\n",
    "#structurePath2 = glob.glob(directory2)\n",
    "\n",
    "structurePath.sort()\n",
    "#structurePath2.sort()\n",
    "extension = re.compile( '(^.*[\\/]|\\.(pdb|ent|brk))' )\n",
    "\n",
    "object_list = []\n",
    "for filename in structurePath:\n",
    "    object_list.append(extension.sub ('',filename))\n",
    "\n",
    "#for filename in structurePath2:\n",
    "#object_list.append(extension.sub ('',filename))\n",
    "\n",
    "rmsd = {}    \n",
    "rmsd_list = []\n",
    "for i in range (len(structurePath)):\n",
    "    for j in range(1+i, len(structurePath)):\n",
    "        obj_name1 = extension.sub('',structurePath[i].split(\"/\")[-1].split(\".\")[0])\n",
    "        cmd.load(structurePath[i],obj_name1)\n",
    "        obj_name2 = extension.sub('',structurePath[j].split(\"/\")[-1].split(\".\")[0])\n",
    "        cmd.load(structurePath[j],obj_name2)\n",
    "        \n",
    "        rmsd_val = cmd.align(obj_name1, obj_name2, cycles=0, cutoff=5,\n",
    "                            quiet=1, transform=0)#good ligand alignment when transform=0\n",
    "                                                 #transform=0/1: do superposition {default: 1}\n",
    "                             \n",
    "        \n",
    "        rmsd.setdefault(obj_name1,{})[obj_name2] = rmsd_val[0],rmsd_val[1],rmsd_val[2],\n",
    "        rmsd_val[3], rmsd_val[4],rmsd_val[5], rmsd_val[6]\n",
    "        \n",
    "        rmsd_list.append((round(rmsd_val[3],2), round(rmsd_val[0],2), round(rmsd_val[4],2),\n",
    "                          round(rmsd_val[5],2), obj_name1, obj_name2)) #indexing to creat\n",
    "                                                                       #columns in df\n",
    "             #columns in df\n",
    "        \n",
    "        #Delete object and replace with new items when \n",
    "        #loop loops through directory, the delete ccommnds must\n",
    "        #align with loops for good results\n",
    "       \n",
    "        cmd.delete(obj_name2)\n",
    "    cmd.delete(obj_name1)\n",
    "\n",
    "#Re-order table\n",
    "rmsd_list.sort()\n",
    "\n",
    "#testing\n",
    "print (rmsd_list)\n",
    "\n",
    "#Create tables with poutput pairwise rmsds\n",
    "rmsd_df = pd.DataFrame(rmsd_list)\n",
    "\n",
    "#Renaming columns to match pymol's \"align\" column names\n",
    "rmsd_df.columns = ['RMSD_BR','RMSD_AR', '#atomsAligned',\n",
    "                   'Alignment_score','Ref_Ligand', \n",
    "                   'Aligned_Ligand']\n",
    "\n",
    "#save file to directory\n",
    "rmsd_df.to_csv(\"rmsd1-200.csv\", index=False)\n",
    "\n",
    "rmsd_df.head(50)\n",
    "\n",
    "#The \"align\" tool of pymol returns a list with 7 items:\n",
    "#RMSD after refinement\n",
    "#Number of aligned atoms after refinement\n",
    "#Number of refinement cycles\n",
    "#RMSD before refinement\n",
    "#Number of aligned atoms before refinement\n",
    "#Raw alignment score\n",
    "#Number of residues aligned\n",
    "#\n",
    "\n",
    "\n"
   ]
  },
  {
   "cell_type": "code",
   "execution_count": null,
   "id": "fa7e861b",
   "metadata": {},
   "outputs": [],
   "source": [
    "pd.read_csv('rmsd900-1000.csv')"
   ]
  },
  {
   "cell_type": "code",
   "execution_count": null,
   "id": "fcae5b8b",
   "metadata": {},
   "outputs": [],
   "source": [
    "rmsd_df[(rmsd_df[\"RMSD_BR\"] < 2) & (rmsd_df[\"Alignment_score\"] > 3)\n",
    "        & (rmsd_df['#atomsAligned'] > 5)].head(50)"
   ]
  },
  {
   "cell_type": "code",
   "execution_count": null,
   "id": "d6f4ea9f",
   "metadata": {},
   "outputs": [],
   "source": [
    "#import time for timing runs\n",
    "import time\n",
    "start_time = time.time()\n"
   ]
  },
  {
   "cell_type": "code",
   "execution_count": null,
   "id": "e9db75a7",
   "metadata": {},
   "outputs": [],
   "source": [
    "import numpy as np\n",
    "import pandas as pd\n",
    "import scanpy as sc\n",
    "import anndata\n",
    "from sklearn.decomposition import TruncatedSVD\n",
    "import matplotlib\n",
    "import matplotlib.pyplot as plt"
   ]
  },
  {
   "cell_type": "code",
   "execution_count": null,
   "id": "c02323f5",
   "metadata": {},
   "outputs": [],
   "source": [
    "%%time\n",
    "# install kb\n",
    "!pip install --quiet kb-python "
   ]
  },
  {
   "cell_type": "code",
   "execution_count": null,
   "id": "7bcd6571",
   "metadata": {},
   "outputs": [],
   "source": [
    "%%time\n",
    "# Download the data from the 10x website\n",
    "!curl -O http://cf.10xgenomics.com/samples/cell-exp/3.0.0/pbmc_1k_v3/pbmc_1k_v3_fastqs.tar\n",
    "\n",
    "# unpack the downloaded files\n",
    "!tar -xf pbmc_1k_v3_fastqs.tar"
   ]
  },
  {
   "cell_type": "code",
   "execution_count": null,
   "id": "028741e3",
   "metadata": {},
   "outputs": [],
   "source": [
    "!tar -czf pbmc_1k_v3_fastqs.tar pbmc_1k_v3_fastq"
   ]
  },
  {
   "cell_type": "code",
   "execution_count": null,
   "id": "6222147b",
   "metadata": {},
   "outputs": [],
   "source": [
    "!ls *.tar"
   ]
  },
  {
   "cell_type": "code",
   "execution_count": null,
   "id": "cd7487c0",
   "metadata": {},
   "outputs": [],
   "source": []
  }
 ],
 "metadata": {
  "kernelspec": {
   "display_name": "Python 3 (ipykernel)",
   "language": "python",
   "name": "python3"
  },
  "language_info": {
   "codemirror_mode": {
    "name": "ipython",
    "version": 3
   },
   "file_extension": ".py",
   "mimetype": "text/x-python",
   "name": "python",
   "nbconvert_exporter": "python",
   "pygments_lexer": "ipython3",
   "version": "3.8.5"
  }
 },
 "nbformat": 4,
 "nbformat_minor": 5
}
